{
 "cells": [
  {
   "cell_type": "code",
   "execution_count": 1,
   "metadata": {},
   "outputs": [],
   "source": [
    "import json\n",
    "import numpy as np\n",
    "import torch\n",
    "from sentence_transformers import SentenceTransformer\n",
    "from pyspark.sql import SparkSession\n",
    "from pyspark.sql.functions import udf\n",
    "from pyspark.ml.linalg import MatrixUDT, DenseMatrix\n",
    "from pyspark.sql.functions import col"
   ]
  },
  {
   "cell_type": "code",
   "execution_count": 2,
   "metadata": {},
   "outputs": [
    {
     "name": "stderr",
     "output_type": "stream",
     "text": [
      "Setting default log level to \"WARN\".\n",
      "To adjust logging level use sc.setLogLevel(newLevel). For SparkR, use setLogLevel(newLevel).\n"
     ]
    },
    {
     "name": "stderr",
     "output_type": "stream",
     "text": [
      "24/04/12 08:50:10 WARN NativeCodeLoader: Unable to load native-hadoop library for your platform... using builtin-java classes where applicable\n"
     ]
    }
   ],
   "source": [
    "spark = SparkSession.builder.appName(\"Sparkify\").getOrCreate()"
   ]
  },
  {
   "cell_type": "code",
   "execution_count": 3,
   "metadata": {},
   "outputs": [],
   "source": [
    "data_path = \"data/fewest_events\"\n",
    "data_type = \"json\""
   ]
  },
  {
   "cell_type": "code",
   "execution_count": 4,
   "metadata": {},
   "outputs": [
    {
     "name": "stderr",
     "output_type": "stream",
     "text": [
      "                                                                                \r"
     ]
    }
   ],
   "source": [
    "df = spark.read.format(data_type).load(data_path)"
   ]
  },
  {
   "cell_type": "code",
   "execution_count": 5,
   "metadata": {},
   "outputs": [
    {
     "name": "stdout",
     "output_type": "stream",
     "text": [
      "+--------------------+------+\n",
      "|                data|userId|\n",
      "+--------------------+------+\n",
      "|[{Coldplay, Logge...|   135|\n",
      "+--------------------+------+\n",
      "\n"
     ]
    }
   ],
   "source": [
    "df.show()"
   ]
  },
  {
   "cell_type": "code",
   "execution_count": 6,
   "metadata": {},
   "outputs": [],
   "source": [
    "unique_pages_data = \"data/unique_pages.json\""
   ]
  },
  {
   "cell_type": "code",
   "execution_count": 7,
   "metadata": {},
   "outputs": [],
   "source": [
    "with open(unique_pages_data, 'r') as f:\n",
    "    unique_pages = json.load(f)"
   ]
  },
  {
   "cell_type": "code",
   "execution_count": 8,
   "metadata": {},
   "outputs": [
    {
     "data": {
      "text/plain": [
       "{'Submit Downgrade': 0,\n",
       " 'Thumbs Down': 1,\n",
       " 'Home': 2,\n",
       " 'Downgrade': 3,\n",
       " 'Roll Advert': 4,\n",
       " 'Logout': 5,\n",
       " 'Save Settings': 6,\n",
       " 'About': 7,\n",
       " 'Settings': 8,\n",
       " 'Login': 9,\n",
       " 'Add to Playlist': 10,\n",
       " 'Add Friend': 11,\n",
       " 'NextSong': 12,\n",
       " 'Thumbs Up': 13,\n",
       " 'Help': 14,\n",
       " 'Upgrade': 15,\n",
       " 'Error': 16,\n",
       " 'Submit Upgrade': 17,\n",
       " 'Cancel': 18,\n",
       " 'Cancellation Confirmation': 19,\n",
       " 'Submit Registration': 20,\n",
       " 'Register': 21}"
      ]
     },
     "execution_count": 8,
     "metadata": {},
     "output_type": "execute_result"
    }
   ],
   "source": [
    "unique_pages"
   ]
  },
  {
   "cell_type": "code",
   "execution_count": 9,
   "metadata": {},
   "outputs": [],
   "source": [
    "model = SentenceTransformer(\"all-MiniLM-L6-v2\")"
   ]
  },
  {
   "cell_type": "code",
   "execution_count": 10,
   "metadata": {},
   "outputs": [],
   "source": [
    "cols = ['artist',\n",
    " 'auth',\n",
    " 'firstName',\n",
    " 'gender',\n",
    " 'itemInSession',\n",
    " 'lastName',\n",
    " 'length',\n",
    " 'level',\n",
    " 'location',\n",
    " 'method',\n",
    " 'page',\n",
    " 'registration',\n",
    " 'sessionId',\n",
    " 'song',\n",
    " 'status',\n",
    " 'userAgent',\n",
    " 'userId']"
   ]
  },
  {
   "cell_type": "code",
   "execution_count": 11,
   "metadata": {},
   "outputs": [],
   "source": [
    "column_embeddings = {}"
   ]
  },
  {
   "cell_type": "code",
   "execution_count": 12,
   "metadata": {},
   "outputs": [],
   "source": [
    "for c in cols:\n",
    "    column_embeddings[c] = model.encode(c)"
   ]
  },
  {
   "cell_type": "code",
   "execution_count": 13,
   "metadata": {},
   "outputs": [],
   "source": [
    "out = []"
   ]
  },
  {
   "cell_type": "code",
   "execution_count": 14,
   "metadata": {},
   "outputs": [],
   "source": [
    "def compute_embeddings(data) -> DenseMatrix:\n",
    "    embeddings = []\n",
    "    prevTs = float(\"-inf\")\n",
    "    for row in data:\n",
    "        assert row['ts'] >= prevTs\n",
    "        prevTs = row['ts']\n",
    "        for c in cols:\n",
    "            body = row[c]\n",
    "            body = str(body)\n",
    "            name_embedding = column_embeddings[c]\n",
    "            body_embedding = model.encode(body)\n",
    "            summed_embedding = name_embedding + body_embedding\n",
    "            embeddings.append(summed_embedding)\n",
    "    embeddings = np.stack(embeddings)\n",
    "    return DenseMatrix(embeddings.shape[0], embeddings.shape[1], embeddings.flatten().tolist(), isTransposed=True)"
   ]
  },
  {
   "cell_type": "code",
   "execution_count": 15,
   "metadata": {},
   "outputs": [],
   "source": [
    "compute_emb_udf = udf(compute_embeddings, MatrixUDT())"
   ]
  },
  {
   "cell_type": "code",
   "execution_count": 16,
   "metadata": {},
   "outputs": [],
   "source": [
    "df_emb = df.withColumn(\"embeddings\", compute_emb_udf(col(\"data\")))"
   ]
  },
  {
   "cell_type": "code",
   "execution_count": 17,
   "metadata": {},
   "outputs": [
    {
     "name": "stderr",
     "output_type": "stream",
     "text": [
      "[Stage 2:>                                                          (0 + 1) / 1]\r"
     ]
    },
    {
     "name": "stdout",
     "output_type": "stream",
     "text": [
      "+--------------------+------+--------------------+\n",
      "|                data|userId|          embeddings|\n",
      "+--------------------+------+--------------------+\n",
      "|[{Coldplay, Logge...|   135|-0.14549641311168...|\n",
      "+--------------------+------+--------------------+\n",
      "\n"
     ]
    },
    {
     "name": "stderr",
     "output_type": "stream",
     "text": [
      "                                                                                \r"
     ]
    }
   ],
   "source": [
    "df_emb.show()"
   ]
  },
  {
   "cell_type": "code",
   "execution_count": 18,
   "metadata": {},
   "outputs": [
    {
     "name": "stderr",
     "output_type": "stream",
     "text": [
      "[Stage 3:>                                                          (0 + 1) / 1]\r"
     ]
    },
    {
     "name": "stderr",
     "output_type": "stream",
     "text": [
      "                                                                                \r"
     ]
    }
   ],
   "source": [
    "sample = df_emb.select(\"embeddings\").first().embeddings"
   ]
  },
  {
   "cell_type": "code",
   "execution_count": 19,
   "metadata": {},
   "outputs": [],
   "source": [
    "sample_data = df.select(\"data\").first().data"
   ]
  },
  {
   "cell_type": "code",
   "execution_count": 20,
   "metadata": {},
   "outputs": [],
   "source": [
    "sample_ndarray = sample.toArray()"
   ]
  },
  {
   "cell_type": "code",
   "execution_count": 21,
   "metadata": {},
   "outputs": [],
   "source": [
    "test_emb = []"
   ]
  },
  {
   "cell_type": "code",
   "execution_count": 22,
   "metadata": {},
   "outputs": [
    {
     "data": {
      "text/plain": [
       "[Row(artist='Coldplay', auth='Logged In', firstName='Zoey', gender='F', itemInSession=0, lastName='Nelson', length=311.27465, level='free', location='Las Vegas-Henderson-Paradise, NV', method='PUT', page='NextSong', registration=1532433959000, sessionId=134, song='The Scientist', status=200, ts=1538661151000, userAgent='\"Mozilla/5.0 (Windows NT 6.1; WOW64) AppleWebKit/537.36 (KHTML, like Gecko) Chrome/37.0.2062.94 Safari/537.36\"', userId='135'),\n",
       " Row(artist='Ratatat', auth='Logged In', firstName='Zoey', gender='F', itemInSession=1, lastName='Nelson', length=226.53342, level='free', location='Las Vegas-Henderson-Paradise, NV', method='PUT', page='NextSong', registration=1532433959000, sessionId=134, song='Loud Pipes', status=200, ts=1538661462000, userAgent='\"Mozilla/5.0 (Windows NT 6.1; WOW64) AppleWebKit/537.36 (KHTML, like Gecko) Chrome/37.0.2062.94 Safari/537.36\"', userId='135'),\n",
       " Row(artist='Fergie', auth='Logged In', firstName='Zoey', gender='F', itemInSession=2, lastName='Nelson', length=240.40444, level='free', location='Las Vegas-Henderson-Paradise, NV', method='PUT', page='NextSong', registration=1532433959000, sessionId=134, song='Clumsy', status=200, ts=1538661688000, userAgent='\"Mozilla/5.0 (Windows NT 6.1; WOW64) AppleWebKit/537.36 (KHTML, like Gecko) Chrome/37.0.2062.94 Safari/537.36\"', userId='135'),\n",
       " Row(artist='Jimi Hendrix', auth='Logged In', firstName='Zoey', gender='F', itemInSession=3, lastName='Nelson', length=241.24036, level='free', location='Las Vegas-Henderson-Paradise, NV', method='PUT', page='NextSong', registration=1532433959000, sessionId=134, song='All Along The Watchtower', status=200, ts=1538661928000, userAgent='\"Mozilla/5.0 (Windows NT 6.1; WOW64) AppleWebKit/537.36 (KHTML, like Gecko) Chrome/37.0.2062.94 Safari/537.36\"', userId='135'),\n",
       " Row(artist='Damien Rice', auth='Logged In', firstName='Zoey', gender='F', itemInSession=4, lastName='Nelson', length=329.24689, level='free', location='Las Vegas-Henderson-Paradise, NV', method='PUT', page='NextSong', registration=1532433959000, sessionId=134, song='I Remember', status=200, ts=1538662169000, userAgent='\"Mozilla/5.0 (Windows NT 6.1; WOW64) AppleWebKit/537.36 (KHTML, like Gecko) Chrome/37.0.2062.94 Safari/537.36\"', userId='135'),\n",
       " Row(artist='Disturbed', auth='Logged In', firstName='Zoey', gender='F', itemInSession=5, lastName='Nelson', length=247.74485, level='free', location='Las Vegas-Henderson-Paradise, NV', method='PUT', page='NextSong', registration=1532433959000, sessionId=134, song='Stupify (Album Version)', status=200, ts=1538662498000, userAgent='\"Mozilla/5.0 (Windows NT 6.1; WOW64) AppleWebKit/537.36 (KHTML, like Gecko) Chrome/37.0.2062.94 Safari/537.36\"', userId='135')]"
      ]
     },
     "execution_count": 22,
     "metadata": {},
     "output_type": "execute_result"
    }
   ],
   "source": [
    "sample_data"
   ]
  },
  {
   "cell_type": "code",
   "execution_count": 23,
   "metadata": {},
   "outputs": [],
   "source": [
    "for row in sample_data:\n",
    "    for c in cols:\n",
    "        body = row[c]\n",
    "        body = str(body)\n",
    "        name_embedding = column_embeddings[c]\n",
    "        body_embedding = model.encode(body)\n",
    "        summed_embedding = name_embedding + body_embedding\n",
    "        test_emb.append(summed_embedding)\n",
    "test_emb = np.stack(test_emb)"
   ]
  },
  {
   "cell_type": "code",
   "execution_count": 24,
   "metadata": {},
   "outputs": [
    {
     "data": {
      "text/plain": [
       "True"
      ]
     },
     "execution_count": 24,
     "metadata": {},
     "output_type": "execute_result"
    }
   ],
   "source": [
    "np.allclose(sample_ndarray, test_emb)"
   ]
  },
  {
   "cell_type": "code",
   "execution_count": null,
   "metadata": {},
   "outputs": [],
   "source": []
  }
 ],
 "metadata": {
  "kernelspec": {
   "display_name": "proj",
   "language": "python",
   "name": "python3"
  },
  "language_info": {
   "codemirror_mode": {
    "name": "ipython",
    "version": 3
   },
   "file_extension": ".py",
   "mimetype": "text/x-python",
   "name": "python",
   "nbconvert_exporter": "python",
   "pygments_lexer": "ipython3",
   "version": "3.11.7"
  }
 },
 "nbformat": 4,
 "nbformat_minor": 2
}
