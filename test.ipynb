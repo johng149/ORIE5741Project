{
 "cells": [
  {
   "cell_type": "code",
   "execution_count": 1,
   "metadata": {},
   "outputs": [],
   "source": [
    "# from src.dataset.process import process_data_pandas\n",
    "# # data_file = \"data/mini_sparkify_event_data.json\"\n",
    "# # data_file = \"data/mini_sparkify_event_data_sample.json\"\n",
    "# data_file = \"data/mini_sparkify_event_data.parquet/\"\n",
    "# gather_col = \"userId\"\n",
    "# sort_col = \"ts\"\n",
    "# alias = \"data\"\n",
    "# target_col = \"page\"\n",
    "# exploded_col = \"explode\"\n",
    "# emb_out_col = \"embeddings\"\n",
    "# target_out_col = \"targets\"\n",
    "# process_data_pandas(\n",
    "#     parquet_file=data_file,\n",
    "#     gather_col=gather_col,\n",
    "#     sort_col=sort_col,\n",
    "#     target_col=target_col,\n",
    "#     cache_size=1000*5,\n",
    "#     device=\"cuda\",\n",
    "# )"
   ]
  },
  {
   "cell_type": "code",
   "execution_count": null,
   "metadata": {},
   "outputs": [],
   "source": [
    "# import torch\n",
    "# train_file = \"data/train_dataset\"\n",
    "# test_file = \"data/test_dataset\"\n",
    "# train = torch.load(train_file, map_location=\"cpu\")\n",
    "# tensors = train[\"tensors\"]\n",
    "# targets = train[\"targets\"]\n",
    "# length = len(tensors)\n",
    "# midpoint = int(length/2)\n",
    "# tensors1 = tensors[:midpoint]\n",
    "# tensors2 = tensors[midpoint:]\n",
    "# targets1 = targets[:midpoint]\n",
    "# targets2 = targets[midpoint:]\n",
    "# first_half_file = \"data/train_first_half\"\n",
    "# second_half_file = \"data/train_second_half\"\n",
    "# first_half = {\n",
    "#     \"tensors\": tensors1,\n",
    "#     \"targets\": targets1\n",
    "# }\n",
    "# second_half = {\n",
    "#     \"tensors\": tensors2,\n",
    "#     \"targets\": targets2\n",
    "# }\n",
    "# torch.save(first_half, first_half_file)\n",
    "# torch.save(second_half, second_half_file)"
   ]
  },
  {
   "cell_type": "code",
   "execution_count": null,
   "metadata": {},
   "outputs": [],
   "source": [
    "# first_half_file = \"data/train_first_half\"\n",
    "# second_half_file = \"data/train_second_half\"\n",
    "# import torch\n",
    "# second_half = torch.load(second_half_file, map_location=\"cpu\")\n",
    "# tensors = second_half[\"tensors\"]\n",
    "# targets = second_half[\"targets\"]\n",
    "# length = len(tensors)\n",
    "# midpoint = int(length/2)\n",
    "# tensors1 = tensors[:midpoint]\n",
    "# tensors2 = tensors[midpoint:]\n",
    "# targets1 = targets[:midpoint]\n",
    "# targets2 = targets[midpoint:]\n",
    "# second_half1 = {\n",
    "#     \"tensors\": tensors1,\n",
    "#     \"targets\": targets1\n",
    "# }\n",
    "# second_half2 = {\n",
    "#     \"tensors\": tensors2,\n",
    "#     \"targets\": targets2\n",
    "# }\n",
    "# second_half1_file = \"data/train_second_half1\"\n",
    "# second_half2_file = \"data/train_second_half2\"\n",
    "# torch.save(second_half1, second_half1_file)\n",
    "# torch.save(second_half2, second_half2_file)"
   ]
  },
  {
   "cell_type": "code",
   "execution_count": null,
   "metadata": {},
   "outputs": [],
   "source": [
    "# import torch\n",
    "# second_half1_file = \"data/train_second_half1\"\n",
    "# second_half2_file = \"data/train_second_half2\"\n",
    "# second_half2 = torch.load(second_half2_file, map_location=\"cpu\")\n",
    "# from datasets import Dataset\n",
    "# ds = Dataset.from_dict(second_half2)\n",
    "# ds.save_to_disk(\"data/train_second_half2_dataset\")"
   ]
  },
  {
   "cell_type": "code",
   "execution_count": null,
   "metadata": {},
   "outputs": [],
   "source": [
    "# files = [\n",
    "#     \"data/train_first_half_dataset\",\n",
    "#     \"data/train_second_half1_dataset\",\n",
    "#     \"data/train_second_half2_dataset\"\n",
    "# ]\n",
    "# from datasets import load_from_disk\n",
    "# ds = [\n",
    "#     load_from_disk(file)\n",
    "#     for file in files\n",
    "# ]\n",
    "# from datasets import concatenate_datasets\n",
    "# combined = concatenate_datasets(ds)\n",
    "# output = \"train_dataset_combined\"\n",
    "# combined.save_to_disk(output)\n",
    "# datasets = [load_from_disk(file) for file in files]"
   ]
  },
  {
   "cell_type": "code",
   "execution_count": 3,
   "metadata": {},
   "outputs": [],
   "source": [
    "from src.dataset.dataset import SparkifyDataset"
   ]
  },
  {
   "cell_type": "code",
   "execution_count": 4,
   "metadata": {},
   "outputs": [],
   "source": [
    "train_file = \"data/train_dataset\""
   ]
  },
  {
   "cell_type": "code",
   "execution_count": null,
   "metadata": {},
   "outputs": [],
   "source": [
    "ds = SparkifyDataset(train_file)"
   ]
  },
  {
   "cell_type": "code",
   "execution_count": 8,
   "metadata": {},
   "outputs": [],
   "source": [
    "from src.preprocess.collate_fn import mat_collate_fn"
   ]
  },
  {
   "cell_type": "code",
   "execution_count": 9,
   "metadata": {},
   "outputs": [],
   "source": [
    "from torch.utils.data import DataLoader"
   ]
  },
  {
   "cell_type": "code",
   "execution_count": 10,
   "metadata": {},
   "outputs": [],
   "source": [
    "dl = DataLoader(ds, batch_size=2, shuffle=True, collate_fn=mat_collate_fn)"
   ]
  },
  {
   "cell_type": "code",
   "execution_count": 12,
   "metadata": {},
   "outputs": [],
   "source": [
    "emb, pos_indices, targets, masks = next(iter(dl))"
   ]
  },
  {
   "cell_type": "code",
   "execution_count": 13,
   "metadata": {},
   "outputs": [
    {
     "data": {
      "text/plain": [
       "torch.Size([2, 128, 384])"
      ]
     },
     "execution_count": 13,
     "metadata": {},
     "output_type": "execute_result"
    }
   ],
   "source": [
    "emb.shape"
   ]
  },
  {
   "cell_type": "code",
   "execution_count": null,
   "metadata": {},
   "outputs": [],
   "source": []
  }
 ],
 "metadata": {
  "kernelspec": {
   "display_name": ".venv",
   "language": "python",
   "name": "python3"
  },
  "language_info": {
   "codemirror_mode": {
    "name": "ipython",
    "version": 3
   },
   "file_extension": ".py",
   "mimetype": "text/x-python",
   "name": "python",
   "nbconvert_exporter": "python",
   "pygments_lexer": "ipython3",
   "version": "3.11.7"
  }
 },
 "nbformat": 4,
 "nbformat_minor": 2
}
