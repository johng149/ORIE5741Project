{
 "cells": [
  {
   "cell_type": "code",
   "execution_count": 1,
   "metadata": {},
   "outputs": [],
   "source": [
    "# from src.dataset.process import process_data_pandas\n",
    "# # data_file = \"data/mini_sparkify_event_data.json\"\n",
    "# # data_file = \"data/mini_sparkify_event_data_sample.json\"\n",
    "# data_file = \"data/mini_sparkify_event_data.parquet/\"\n",
    "# gather_col = \"userId\"\n",
    "# sort_col = \"ts\"\n",
    "# alias = \"data\"\n",
    "# target_col = \"page\"\n",
    "# exploded_col = \"explode\"\n",
    "# emb_out_col = \"embeddings\"\n",
    "# target_out_col = \"targets\"\n",
    "# process_data_pandas(\n",
    "#     parquet_file=data_file,\n",
    "#     gather_col=gather_col,\n",
    "#     sort_col=sort_col,\n",
    "#     target_col=target_col,\n",
    "#     cache_size=1000*5,\n",
    "#     device=\"cuda\",\n",
    "# )"
   ]
  },
  {
   "cell_type": "code",
   "execution_count": null,
   "metadata": {},
   "outputs": [],
   "source": [
    "# import torch\n",
    "# train_file = \"data/train_dataset\"\n",
    "# test_file = \"data/test_dataset\"\n",
    "# train = torch.load(train_file, map_location=\"cpu\")\n",
    "# tensors = train[\"tensors\"]\n",
    "# targets = train[\"targets\"]\n",
    "# length = len(tensors)\n",
    "# midpoint = int(length/2)\n",
    "# tensors1 = tensors[:midpoint]\n",
    "# tensors2 = tensors[midpoint:]\n",
    "# targets1 = targets[:midpoint]\n",
    "# targets2 = targets[midpoint:]\n",
    "# first_half_file = \"data/train_first_half\"\n",
    "# second_half_file = \"data/train_second_half\"\n",
    "# first_half = {\n",
    "#     \"tensors\": tensors1,\n",
    "#     \"targets\": targets1\n",
    "# }\n",
    "# second_half = {\n",
    "#     \"tensors\": tensors2,\n",
    "#     \"targets\": targets2\n",
    "# }\n",
    "# torch.save(first_half, first_half_file)\n",
    "# torch.save(second_half, second_half_file)"
   ]
  },
  {
   "cell_type": "code",
   "execution_count": null,
   "metadata": {},
   "outputs": [],
   "source": [
    "# first_half_file = \"data/train_first_half\"\n",
    "# second_half_file = \"data/train_second_half\"\n",
    "# import torch\n",
    "# second_half = torch.load(second_half_file, map_location=\"cpu\")\n",
    "# tensors = second_half[\"tensors\"]\n",
    "# targets = second_half[\"targets\"]\n",
    "# length = len(tensors)\n",
    "# midpoint = int(length/2)\n",
    "# tensors1 = tensors[:midpoint]\n",
    "# tensors2 = tensors[midpoint:]\n",
    "# targets1 = targets[:midpoint]\n",
    "# targets2 = targets[midpoint:]\n",
    "# second_half1 = {\n",
    "#     \"tensors\": tensors1,\n",
    "#     \"targets\": targets1\n",
    "# }\n",
    "# second_half2 = {\n",
    "#     \"tensors\": tensors2,\n",
    "#     \"targets\": targets2\n",
    "# }\n",
    "# second_half1_file = \"data/train_second_half1\"\n",
    "# second_half2_file = \"data/train_second_half2\"\n",
    "# torch.save(second_half1, second_half1_file)\n",
    "# torch.save(second_half2, second_half2_file)"
   ]
  },
  {
   "cell_type": "code",
   "execution_count": null,
   "metadata": {},
   "outputs": [],
   "source": [
    "# import torch\n",
    "# second_half1_file = \"data/train_second_half1\"\n",
    "# second_half2_file = \"data/train_second_half2\"\n",
    "# second_half2 = torch.load(second_half2_file, map_location=\"cpu\")\n",
    "# from datasets import Dataset\n",
    "# ds = Dataset.from_dict(second_half2)\n",
    "# ds.save_to_disk(\"data/train_second_half2_dataset\")"
   ]
  },
  {
   "cell_type": "code",
   "execution_count": null,
   "metadata": {},
   "outputs": [],
   "source": [
    "# files = [\n",
    "#     \"data/train_first_half_dataset\",\n",
    "#     \"data/train_second_half1_dataset\",\n",
    "#     \"data/train_second_half2_dataset\"\n",
    "# ]\n",
    "# from datasets import load_from_disk\n",
    "# ds = [\n",
    "#     load_from_disk(file)\n",
    "#     for file in files\n",
    "# ]\n",
    "# from datasets import concatenate_datasets\n",
    "# combined = concatenate_datasets(ds)\n",
    "# output = \"train_dataset_combined\"\n",
    "# combined.save_to_disk(output)\n",
    "# datasets = [load_from_disk(file) for file in files]"
   ]
  },
  {
   "cell_type": "code",
   "execution_count": 3,
   "metadata": {},
   "outputs": [],
   "source": [
    "from src.dataset.dataset import SparkifyDataset"
   ]
  },
  {
   "cell_type": "code",
   "execution_count": 4,
   "metadata": {},
   "outputs": [
    {
     "name": "stderr",
     "output_type": "stream",
     "text": [
      "your 131072x1 screen size is bogus. expect trouble\n",
      "24/05/02 13:37:00 WARN Utils: Your hostname, LAPTOP-BGM34H86 resolves to a loopback address: 127.0.1.1; using 172.20.189.170 instead (on interface eth0)\n",
      "24/05/02 13:37:00 WARN Utils: Set SPARK_LOCAL_IP if you need to bind to another address\n",
      "Setting default log level to \"WARN\".\n",
      "To adjust logging level use sc.setLogLevel(newLevel). For SparkR, use setLogLevel(newLevel).\n",
      "24/05/02 13:37:02 WARN NativeCodeLoader: Unable to load native-hadoop library for your platform... using builtin-java classes where applicable\n"
     ]
    }
   ],
   "source": [
    "# from pyspark.sql import SparkSession\n",
    "\n",
    "# spark = SparkSession.builder \\\n",
    "#     .appName(\"YourApp\") \\\n",
    "#     .config(\"spark.executor.memory\", \"6g\") \\\n",
    "#     .config(\"spark.driver.memory\", \"6g\") \\\n",
    "#     .getOrCreate()\n"
   ]
  },
  {
   "cell_type": "code",
   "execution_count": 5,
   "metadata": {},
   "outputs": [
    {
     "ename": "",
     "evalue": "",
     "output_type": "error",
     "traceback": [
      "\u001b[1;31mThe Kernel crashed while executing code in the current cell or a previous cell. \n",
      "\u001b[1;31mPlease review the code in the cell(s) to identify a possible cause of the failure. \n",
      "\u001b[1;31mClick <a href='https://aka.ms/vscodeJupyterKernelCrash'>here</a> for more info. \n",
      "\u001b[1;31mView Jupyter <a href='command:jupyter.viewOutput'>log</a> for further details."
     ]
    }
   ],
   "source": [
    "ds = SparkifyDataset(train_file])"
   ]
  },
  {
   "cell_type": "code",
   "execution_count": null,
   "metadata": {},
   "outputs": [],
   "source": [
    "from src.preprocess.collate_fn import mat_collate_fn"
   ]
  },
  {
   "cell_type": "code",
   "execution_count": null,
   "metadata": {},
   "outputs": [],
   "source": [
    "from torch.utils.data import DataLoader"
   ]
  },
  {
   "cell_type": "code",
   "execution_count": null,
   "metadata": {},
   "outputs": [],
   "source": [
    "dl = DataLoader(ds, batch_size=2, shuffle=True, collate_fn=mat_collate_fn)"
   ]
  },
  {
   "cell_type": "code",
   "execution_count": null,
   "metadata": {},
   "outputs": [],
   "source": [
    "emb, pos_indices, targets, masks = next(iter(dl))"
   ]
  },
  {
   "cell_type": "code",
   "execution_count": null,
   "metadata": {},
   "outputs": [
    {
     "data": {
      "text/plain": [
       "torch.Size([2, 128, 384])"
      ]
     },
     "execution_count": 13,
     "metadata": {},
     "output_type": "execute_result"
    }
   ],
   "source": [
    "emb.shape"
   ]
  },
  {
   "cell_type": "code",
   "execution_count": null,
   "metadata": {},
   "outputs": [],
   "source": []
  }
 ],
 "metadata": {
  "kernelspec": {
   "display_name": ".venv",
   "language": "python",
   "name": "python3"
  },
  "language_info": {
   "codemirror_mode": {
    "name": "ipython",
    "version": 3
   },
   "file_extension": ".py",
   "mimetype": "text/x-python",
   "name": "python",
   "nbconvert_exporter": "python",
   "pygments_lexer": "ipython3",
   "version": "3.10.12"
  }
 },
 "nbformat": 4,
 "nbformat_minor": 2
}
