{
 "cells": [
  {
   "cell_type": "code",
   "execution_count": 1,
   "metadata": {},
   "outputs": [],
   "source": [
    "# from src.dataset.process import process_data\n",
    "# # data_file = \"data/mini_sparkify_event_data.json\"\n",
    "# data_file = \"data/mini_sparkify_event_data_sample.json\"\n",
    "# gather_col = \"userId\"\n",
    "# sort_col = \"ts\"\n",
    "# alias = \"data\"\n",
    "# target_col = \"page\"\n",
    "# exploded_col = \"explode\"\n",
    "# emb_out_col = \"embeddings\"\n",
    "# target_out_col = \"targets\"\n",
    "# memory = \"2g\"\n",
    "# process_data(\n",
    "#     json_file=data_file,\n",
    "#     gather_col=gather_col,\n",
    "#     sort_col=sort_col,\n",
    "#     alias=alias,\n",
    "#     target_col=target_col,\n",
    "#     exploded_col=exploded_col,\n",
    "#     emb_out_col=emb_out_col,\n",
    "#     target_out_col=target_out_col,\n",
    "#     memory=memory\n",
    "# )"
   ]
  },
  {
   "cell_type": "code",
   "execution_count": 2,
   "metadata": {},
   "outputs": [],
   "source": [
    "from datasets import Dataset"
   ]
  },
  {
   "cell_type": "code",
   "execution_count": 3,
   "metadata": {},
   "outputs": [],
   "source": [
    "ds_train_path = \"data/train_dataset\"\n",
    "ds_test_path = \"data/test_dataset\""
   ]
  },
  {
   "cell_type": "code",
   "execution_count": 4,
   "metadata": {},
   "outputs": [],
   "source": [
    "train = Dataset.load_from_disk(ds_train_path)\n",
    "test = Dataset.load_from_disk(ds_test_path)"
   ]
  },
  {
   "cell_type": "code",
   "execution_count": 5,
   "metadata": {},
   "outputs": [],
   "source": [
    "sample = next(iter(train))"
   ]
  },
  {
   "cell_type": "code",
   "execution_count": 6,
   "metadata": {},
   "outputs": [],
   "source": [
    "sample_test = next(iter(test))"
   ]
  },
  {
   "cell_type": "code",
   "execution_count": 7,
   "metadata": {},
   "outputs": [],
   "source": [
    "from torch.utils.data import DataLoader"
   ]
  },
  {
   "cell_type": "code",
   "execution_count": 8,
   "metadata": {},
   "outputs": [],
   "source": [
    "from src.preprocess.collate_fn import mat_collate_fn_dicts, mat_collate_fn"
   ]
  },
  {
   "cell_type": "code",
   "execution_count": 9,
   "metadata": {},
   "outputs": [],
   "source": [
    "embeddings_key = \"embeddings\"\n",
    "target_key = \"targets\""
   ]
  },
  {
   "cell_type": "code",
   "execution_count": 10,
   "metadata": {},
   "outputs": [],
   "source": [
    "dl = DataLoader(train, \n",
    "                batch_size=2, \n",
    "                collate_fn=lambda x: mat_collate_fn_dicts(x, embeddings_key, target_key)\n",
    "                )"
   ]
  },
  {
   "cell_type": "code",
   "execution_count": 11,
   "metadata": {},
   "outputs": [
    {
     "name": "stderr",
     "output_type": "stream",
     "text": [
      "/run/media/john/Secondary/Documents/Cornell/Spring 2024/ORIE 4741 Learning From Data/Project/proj/lib64/python3.11/site-packages/torch/nested/__init__.py:166: UserWarning: The PyTorch API of nested tensors is in prototype stage and will change in the near future. (Triggered internally at ../aten/src/ATen/NestedTensorImpl.cpp:177.)\n",
      "  return _nested.nested_tensor(\n"
     ]
    }
   ],
   "source": [
    "emb, pos_indices, targets, masks = next(iter(dl))"
   ]
  },
  {
   "cell_type": "code",
   "execution_count": 12,
   "metadata": {},
   "outputs": [],
   "source": [
    "from src.dataset.thin_wrapper import ThinWrapperDataset"
   ]
  },
  {
   "cell_type": "code",
   "execution_count": 13,
   "metadata": {},
   "outputs": [],
   "source": [
    "wrap = ThinWrapperDataset(train, max_seq_len=100, embeddings_key=embeddings_key, targets_key=target_key)"
   ]
  },
  {
   "cell_type": "code",
   "execution_count": 14,
   "metadata": {},
   "outputs": [],
   "source": [
    "dl_wrap = DataLoader(wrap,\n",
    "                        batch_size=2,\n",
    "                        collate_fn=mat_collate_fn\n",
    "                        )"
   ]
  },
  {
   "cell_type": "code",
   "execution_count": 15,
   "metadata": {},
   "outputs": [],
   "source": [
    "emb, pos_indices, targets, masks = next(iter(dl_wrap))"
   ]
  },
  {
   "cell_type": "code",
   "execution_count": 16,
   "metadata": {},
   "outputs": [
    {
     "data": {
      "text/plain": [
       "torch.Size([2, 100, 384])"
      ]
     },
     "execution_count": 16,
     "metadata": {},
     "output_type": "execute_result"
    }
   ],
   "source": [
    "emb.shape"
   ]
  },
  {
   "cell_type": "code",
   "execution_count": 21,
   "metadata": {},
   "outputs": [],
   "source": [
    "test_target_dist_file = \"data/test_target_dist.json\"\n",
    "train_target_dist_file = \"data/train_target_dist.json\"\n",
    "unique_target_file = \"data/unique_targets.json\"\n",
    "target_dist_file = \"data/target_dist.json\""
   ]
  },
  {
   "cell_type": "code",
   "execution_count": 18,
   "metadata": {},
   "outputs": [],
   "source": [
    "import json"
   ]
  },
  {
   "cell_type": "code",
   "execution_count": 22,
   "metadata": {},
   "outputs": [],
   "source": [
    "with open(test_target_dist_file, \"r\") as f:\n",
    "    test_target_dist = json.load(f)\n",
    "with open(train_target_dist_file, \"r\") as f:\n",
    "    train_target_dist = json.load(f)\n",
    "with open(unique_target_file, \"r\") as f:\n",
    "    unique_targets = json.load(f)\n",
    "with open(target_dist_file, \"r\") as f:\n",
    "    target_dist = json.load(f)"
   ]
  },
  {
   "cell_type": "code",
   "execution_count": 23,
   "metadata": {},
   "outputs": [
    {
     "data": {
      "text/plain": [
       "{'Home': 136,\n",
       " 'Logout': 37,\n",
       " 'About': 13,\n",
       " 'Settings': 17,\n",
       " 'Login': 30,\n",
       " 'Add to Playlist': 65,\n",
       " 'Add Friend': 56,\n",
       " 'NextSong': 2249,\n",
       " 'Thumbs Up': 128,\n",
       " 'Upgrade': 5,\n",
       " 'Thumbs Down': 28,\n",
       " 'Downgrade': 15,\n",
       " 'Roll Advert': 52,\n",
       " 'Help': 27,\n",
       " 'Submit Upgrade': 2,\n",
       " 'Save Settings': 3,\n",
       " 'Submit Downgrade': 1}"
      ]
     },
     "execution_count": 23,
     "metadata": {},
     "output_type": "execute_result"
    }
   ],
   "source": [
    "target_dist"
   ]
  },
  {
   "cell_type": "code",
   "execution_count": null,
   "metadata": {},
   "outputs": [],
   "source": []
  }
 ],
 "metadata": {
  "kernelspec": {
   "display_name": ".venv",
   "language": "python",
   "name": "python3"
  },
  "language_info": {
   "codemirror_mode": {
    "name": "ipython",
    "version": 3
   },
   "file_extension": ".py",
   "mimetype": "text/x-python",
   "name": "python",
   "nbconvert_exporter": "python",
   "pygments_lexer": "ipython3",
   "version": "3.11.7"
  }
 },
 "nbformat": 4,
 "nbformat_minor": 2
}
