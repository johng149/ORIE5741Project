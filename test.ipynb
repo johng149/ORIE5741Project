{
 "cells": [
  {
   "cell_type": "code",
   "execution_count": 1,
   "metadata": {},
   "outputs": [],
   "source": [
    "from src.dataset.process import process_data"
   ]
  },
  {
   "cell_type": "code",
   "execution_count": 2,
   "metadata": {},
   "outputs": [],
   "source": [
    "data_file = \"data/mini_sparkify_event_data.json\"\n",
    "gather_col = \"userId\"\n",
    "sort_col = \"ts\"\n",
    "alias = \"data\"\n",
    "target_col = \"page\"\n",
    "exploded_col = \"explode\"\n",
    "emb_out_col = \"embeddings\"\n",
    "target_out_col = \"targets\"\n",
    "memory = \"2g\""
   ]
  },
  {
   "cell_type": "code",
   "execution_count": 3,
   "metadata": {},
   "outputs": [
    {
     "name": "stderr",
     "output_type": "stream",
     "text": [
      "Setting default log level to \"WARN\".\n",
      "To adjust logging level use sc.setLogLevel(newLevel). For SparkR, use setLogLevel(newLevel).\n",
      "24/04/25 17:44:33 WARN NativeCodeLoader: Unable to load native-hadoop library for your platform... using builtin-java classes where applicable\n",
      "24/04/25 17:44:40 WARN SparkStringUtils: Truncated the string representation of a plan since it was too large. This behavior can be adjusted by setting 'spark.sql.debug.maxToStringFields'.\n",
      "[Stage 24:>                                                       (0 + 16) / 17]\r"
     ]
    }
   ],
   "source": [
    "process_data(\n",
    "    json_file=data_file,\n",
    "    gather_col=gather_col,\n",
    "    sort_col=sort_col,\n",
    "    alias=alias,\n",
    "    target_col=target_col,\n",
    "    exploded_col=exploded_col,\n",
    "    emb_out_col=emb_out_col,\n",
    "    target_out_col=target_out_col,\n",
    "    memory=memory\n",
    ")"
   ]
  },
  {
   "cell_type": "code",
   "execution_count": null,
   "metadata": {},
   "outputs": [],
   "source": []
  }
 ],
 "metadata": {
  "kernelspec": {
   "display_name": ".venv",
   "language": "python",
   "name": "python3"
  },
  "language_info": {
   "codemirror_mode": {
    "name": "ipython",
    "version": 3
   },
   "file_extension": ".py",
   "mimetype": "text/x-python",
   "name": "python",
   "nbconvert_exporter": "python",
   "pygments_lexer": "ipython3",
   "version": "3.11.7"
  }
 },
 "nbformat": 4,
 "nbformat_minor": 2
}
