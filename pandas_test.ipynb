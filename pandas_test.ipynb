{
 "cells": [
  {
   "cell_type": "code",
   "execution_count": 1,
   "metadata": {},
   "outputs": [],
   "source": [
    "import pandas as pd"
   ]
  },
  {
   "cell_type": "code",
   "execution_count": 2,
   "metadata": {},
   "outputs": [],
   "source": [
    "data_file = \"./data/mini_sparkify_event_data.parquet\""
   ]
  },
  {
   "cell_type": "code",
   "execution_count": 3,
   "metadata": {},
   "outputs": [],
   "source": [
    "df = pd.read_parquet(data_file)"
   ]
  },
  {
   "cell_type": "code",
   "execution_count": 4,
   "metadata": {},
   "outputs": [],
   "source": [
    "columns = df.columns"
   ]
  },
  {
   "cell_type": "code",
   "execution_count": 5,
   "metadata": {},
   "outputs": [
    {
     "data": {
      "text/plain": [
       "Index(['artist', 'auth', 'firstName', 'gender', 'itemInSession', 'lastName',\n",
       "       'length', 'level', 'location', 'method', 'page', 'registration',\n",
       "       'sessionId', 'song', 'status', 'ts', 'userAgent', 'userId'],\n",
       "      dtype='object')"
      ]
     },
     "execution_count": 5,
     "metadata": {},
     "output_type": "execute_result"
    }
   ],
   "source": [
    "columns"
   ]
  },
  {
   "cell_type": "code",
   "execution_count": 6,
   "metadata": {},
   "outputs": [],
   "source": [
    "groupBy = \"userId\"\n",
    "orderBy = \"ts\""
   ]
  },
  {
   "cell_type": "code",
   "execution_count": 7,
   "metadata": {},
   "outputs": [],
   "source": [
    "# copy the `userId` column into a new column as a deep copy\n"
   ]
  },
  {
   "cell_type": "code",
   "execution_count": 8,
   "metadata": {},
   "outputs": [
    {
     "name": "stdout",
     "output_type": "stream",
     "text": [
      "+----+------------------+-----------+-------------+----------+-----------------+------------+----------+---------+--------------------------------+----------+----------+----------------+-------------+-------------------------------+----------+---------------+-----------------------------------------------------------------------------------------------------------------+----------+\n",
      "|    | artist           | auth      | firstName   | gender   |   itemInSession | lastName   |   length | level   | location                       | method   | page     |   registration |   sessionId | song                          |   status |            ts | userAgent                                                                                                       |   userId |\n",
      "|----+------------------+-----------+-------------+----------+-----------------+------------+----------+---------+--------------------------------+----------+----------+----------------+-------------+-------------------------------+----------+---------------+-----------------------------------------------------------------------------------------------------------------+----------|\n",
      "|  0 | Martha Tilston   | Logged In | Colin       | M        |              50 | Freeman    |  277.89  | paid    | Bakersfield, CA                | PUT      | NextSong |    1.53817e+12 |          29 | Rockpools                     |      200 | 1538352117000 | Mozilla/5.0 (Windows NT 6.1; WOW64; rv:31.0) Gecko/20100101 Firefox/31.0                                        |       30 |\n",
      "|  1 | Five Iron Frenzy | Logged In | Micah       | M        |              79 | Long       |  236.094 | free    | Boston-Cambridge-Newton, MA-NH | PUT      | NextSong |    1.53833e+12 |           8 | Canada                        |      200 | 1538352180000 | \"Mozilla/5.0 (Windows NT 6.1; WOW64) AppleWebKit/537.36 (KHTML, like Gecko) Chrome/37.0.2062.103 Safari/537.36\" |        9 |\n",
      "|  2 | Adam Lambert     | Logged In | Colin       | M        |              51 | Freeman    |  282.827 | paid    | Bakersfield, CA                | PUT      | NextSong |    1.53817e+12 |          29 | Time For Miracles             |      200 | 1538352394000 | Mozilla/5.0 (Windows NT 6.1; WOW64; rv:31.0) Gecko/20100101 Firefox/31.0                                        |       30 |\n",
      "|  3 | Enigma           | Logged In | Micah       | M        |              80 | Long       |  262.713 | free    | Boston-Cambridge-Newton, MA-NH | PUT      | NextSong |    1.53833e+12 |           8 | Knocking On Forbidden Doors   |      200 | 1538352416000 | \"Mozilla/5.0 (Windows NT 6.1; WOW64) AppleWebKit/537.36 (KHTML, like Gecko) Chrome/37.0.2062.103 Safari/537.36\" |        9 |\n",
      "|  4 | Daft Punk        | Logged In | Colin       | M        |              52 | Freeman    |  223.608 | paid    | Bakersfield, CA                | PUT      | NextSong |    1.53817e+12 |          29 | Harder Better Faster Stronger |      200 | 1538352676000 | Mozilla/5.0 (Windows NT 6.1; WOW64; rv:31.0) Gecko/20100101 Firefox/31.0                                        |       30 |\n",
      "+----+------------------+-----------+-------------+----------+-----------------+------------+----------+---------+--------------------------------+----------+----------+----------------+-------------+-------------------------------+----------+---------------+-----------------------------------------------------------------------------------------------------------------+----------+\n"
     ]
    }
   ],
   "source": [
    "# print original df out as a string so it can be copied into a test\n",
    "# sample only the first 5 rows\n",
    "from tabulate import tabulate\n",
    "original_sample = df.head(5)\n",
    "print(tabulate(original_sample, headers='keys', tablefmt='psql'))"
   ]
  },
  {
   "cell_type": "code",
   "execution_count": 9,
   "metadata": {},
   "outputs": [],
   "source": [
    "grouped = df.sort_values(orderBy).groupby(groupBy)"
   ]
  },
  {
   "cell_type": "code",
   "execution_count": 10,
   "metadata": {},
   "outputs": [
    {
     "name": "stderr",
     "output_type": "stream",
     "text": [
      "/tmp/ipykernel_211101/1239292483.py:1: DeprecationWarning: DataFrameGroupBy.apply operated on the grouping columns. This behavior is deprecated, and in a future version of pandas the grouping columns will be excluded from the operation. Either pass `include_groups=False` to exclude the groupings or explicitly select the grouping columns after groupby to silence this warning.\n",
      "  sorted_df = grouped.apply(lambda x: x.to_dict(\"records\")).reset_index()\n"
     ]
    }
   ],
   "source": [
    "sorted_df = grouped.apply(lambda x: x.to_dict(\"records\")).reset_index()"
   ]
  },
  {
   "cell_type": "code",
   "execution_count": 11,
   "metadata": {},
   "outputs": [
    {
     "data": {
      "text/plain": [
       "Index(['userId', 0], dtype='object')"
      ]
     },
     "execution_count": 11,
     "metadata": {},
     "output_type": "execute_result"
    }
   ],
   "source": [
    "sorted_df.columns"
   ]
  },
  {
   "cell_type": "code",
   "execution_count": 12,
   "metadata": {},
   "outputs": [
    {
     "data": {
      "text/plain": [
       "226"
      ]
     },
     "execution_count": 12,
     "metadata": {},
     "output_type": "execute_result"
    }
   ],
   "source": [
    "len(sorted_df)"
   ]
  },
  {
   "cell_type": "code",
   "execution_count": 13,
   "metadata": {},
   "outputs": [
    {
     "data": {
      "text/html": [
       "<div>\n",
       "<style scoped>\n",
       "    .dataframe tbody tr th:only-of-type {\n",
       "        vertical-align: middle;\n",
       "    }\n",
       "\n",
       "    .dataframe tbody tr th {\n",
       "        vertical-align: top;\n",
       "    }\n",
       "\n",
       "    .dataframe thead th {\n",
       "        text-align: right;\n",
       "    }\n",
       "</style>\n",
       "<table border=\"1\" class=\"dataframe\">\n",
       "  <thead>\n",
       "    <tr style=\"text-align: right;\">\n",
       "      <th></th>\n",
       "      <th>userId</th>\n",
       "      <th>0</th>\n",
       "    </tr>\n",
       "  </thead>\n",
       "  <tbody>\n",
       "    <tr>\n",
       "      <th>0</th>\n",
       "      <td></td>\n",
       "      <td>[{'artist': None, 'auth': 'Logged Out', 'first...</td>\n",
       "    </tr>\n",
       "    <tr>\n",
       "      <th>1</th>\n",
       "      <td>10</td>\n",
       "      <td>[{'artist': 'Sea Wolf', 'auth': 'Logged In', '...</td>\n",
       "    </tr>\n",
       "    <tr>\n",
       "      <th>2</th>\n",
       "      <td>100</td>\n",
       "      <td>[{'artist': 'Evanescence', 'auth': 'Logged In'...</td>\n",
       "    </tr>\n",
       "    <tr>\n",
       "      <th>3</th>\n",
       "      <td>100001</td>\n",
       "      <td>[{'artist': None, 'auth': 'Logged In', 'firstN...</td>\n",
       "    </tr>\n",
       "    <tr>\n",
       "      <th>4</th>\n",
       "      <td>100002</td>\n",
       "      <td>[{'artist': None, 'auth': 'Logged In', 'firstN...</td>\n",
       "    </tr>\n",
       "  </tbody>\n",
       "</table>\n",
       "</div>"
      ],
      "text/plain": [
       "   userId                                                  0\n",
       "0          [{'artist': None, 'auth': 'Logged Out', 'first...\n",
       "1      10  [{'artist': 'Sea Wolf', 'auth': 'Logged In', '...\n",
       "2     100  [{'artist': 'Evanescence', 'auth': 'Logged In'...\n",
       "3  100001  [{'artist': None, 'auth': 'Logged In', 'firstN...\n",
       "4  100002  [{'artist': None, 'auth': 'Logged In', 'firstN..."
      ]
     },
     "execution_count": 13,
     "metadata": {},
     "output_type": "execute_result"
    }
   ],
   "source": [
    "sorted_df.head(5)"
   ]
  },
  {
   "cell_type": "code",
   "execution_count": 14,
   "metadata": {},
   "outputs": [],
   "source": [
    "from sentence_transformers import SentenceTransformer"
   ]
  },
  {
   "cell_type": "code",
   "execution_count": 15,
   "metadata": {},
   "outputs": [],
   "source": [
    "model = SentenceTransformer('all-MiniLM-L6-v2')"
   ]
  },
  {
   "cell_type": "code",
   "execution_count": 16,
   "metadata": {},
   "outputs": [],
   "source": [
    "name_cache = {} # maps things like 'artist' to the embedding of 'artist'"
   ]
  },
  {
   "cell_type": "code",
   "execution_count": 17,
   "metadata": {},
   "outputs": [],
   "source": [
    "data_cache = {} # maps the data to the embedding of the data"
   ]
  },
  {
   "cell_type": "code",
   "execution_count": 18,
   "metadata": {},
   "outputs": [],
   "source": [
    "import torch"
   ]
  },
  {
   "cell_type": "code",
   "execution_count": 19,
   "metadata": {},
   "outputs": [],
   "source": [
    "from tqdm.auto import tqdm"
   ]
  },
  {
   "cell_type": "code",
   "execution_count": 20,
   "metadata": {},
   "outputs": [],
   "source": [
    "def encode_row(row):\n",
    "    result = []\n",
    "    for d in row[0]: # row[1] contains the actual data\n",
    "        for k, v in d.items():\n",
    "            if k not in [groupBy, orderBy]:\n",
    "                if k not in name_cache:\n",
    "                    name_cache[k] = model.encode(k, convert_to_tensor=True)\n",
    "                v = str(v)\n",
    "                if v not in data_cache:\n",
    "                    data_cache[v] = model.encode(str(v), convert_to_tensor=True)\n",
    "                k_emb = name_cache[k]\n",
    "                v_emb = data_cache[v]\n",
    "                summed = k_emb + v_emb\n",
    "                result.append(summed)\n",
    "    return torch.stack(result)"
   ]
  },
  {
   "cell_type": "code",
   "execution_count": 21,
   "metadata": {},
   "outputs": [],
   "source": [
    "tensors = []"
   ]
  },
  {
   "cell_type": "code",
   "execution_count": 22,
   "metadata": {},
   "outputs": [
    {
     "data": {
      "application/vnd.jupyter.widget-view+json": {
       "model_id": "e980fcfd8cb24185a180e60509c4b704",
       "version_major": 2,
       "version_minor": 0
      },
      "text/plain": [
       "  0%|          | 0/226 [00:00<?, ?it/s]"
      ]
     },
     "metadata": {},
     "output_type": "display_data"
    },
    {
     "name": "stdout",
     "output_type": "stream",
     "text": [
      "8346\n",
      "18\n"
     ]
    }
   ],
   "source": [
    "# processed = sorted_df.apply(encode_row, axis=1)\n",
    "for index, row in tqdm(sorted_df.iterrows(), total=len(sorted_df)):\n",
    "    tensors.append(encode_row(row))"
   ]
  },
  {
   "cell_type": "code",
   "execution_count": 24,
   "metadata": {},
   "outputs": [
    {
     "data": {
      "text/plain": [
       "torch.Size([133536, 384])"
      ]
     },
     "execution_count": 24,
     "metadata": {},
     "output_type": "execute_result"
    }
   ],
   "source": [
    "tensors[0].shape"
   ]
  },
  {
   "cell_type": "code",
   "execution_count": null,
   "metadata": {},
   "outputs": [],
   "source": [
    "unique_pages_file = \"./data/unique_pages.json\""
   ]
  },
  {
   "cell_type": "code",
   "execution_count": null,
   "metadata": {},
   "outputs": [],
   "source": [
    "import json"
   ]
  },
  {
   "cell_type": "code",
   "execution_count": null,
   "metadata": {},
   "outputs": [],
   "source": [
    "with open(unique_pages_file) as f:\n",
    "    unique_pages = json.load(f)"
   ]
  },
  {
   "cell_type": "code",
   "execution_count": null,
   "metadata": {},
   "outputs": [],
   "source": [
    "def encode_row_targets(row):\n",
    "    result = []\n",
    "    for d in row[0]:\n",
    "        for k, v in d.items():\n",
    "            if k == \"page\":\n",
    "                idx = unique_pages[v]\n",
    "            else:\n",
    "                idx = -1\n",
    "            result.append(idx)\n",
    "    return torch.tensor(result)"
   ]
  },
  {
   "cell_type": "code",
   "execution_count": null,
   "metadata": {},
   "outputs": [],
   "source": [
    "targets = []\n",
    "for index, row in tqdm(sorted_df.iterrows(), total=len(sorted_df)):\n",
    "    targets.append(encode_row_targets(row))\n",
    "targets = torch.stack(targets)"
   ]
  },
  {
   "cell_type": "code",
   "execution_count": null,
   "metadata": {},
   "outputs": [],
   "source": []
  }
 ],
 "metadata": {
  "kernelspec": {
   "display_name": "proj",
   "language": "python",
   "name": "python3"
  },
  "language_info": {
   "codemirror_mode": {
    "name": "ipython",
    "version": 3
   },
   "file_extension": ".py",
   "mimetype": "text/x-python",
   "name": "python",
   "nbconvert_exporter": "python",
   "pygments_lexer": "ipython3",
   "version": "3.11.7"
  }
 },
 "nbformat": 4,
 "nbformat_minor": 2
}
