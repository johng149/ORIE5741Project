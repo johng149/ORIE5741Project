{
 "cells": [
  {
   "cell_type": "code",
   "execution_count": 1,
   "metadata": {},
   "outputs": [],
   "source": [
    "import torch"
   ]
  },
  {
   "cell_type": "code",
   "execution_count": 2,
   "metadata": {},
   "outputs": [],
   "source": [
    "from src.nn.train import train, load_checkpoint\n",
    "from src.dataset.dataset import SparkifyDataset\n",
    "from src.nn.Transformer import TransformerModel\n",
    "from torch.optim.adam import Adam\n",
    "from torch.utils.data import DataLoader\n",
    "from src.preprocess.collate_fn import mat_collate_fn"
   ]
  },
  {
   "cell_type": "code",
   "execution_count": 3,
   "metadata": {},
   "outputs": [],
   "source": [
    "checkpoint_path = \"./checkpoints/sparkify_transformer\"\n",
    "device = torch.device(\"cuda\" if torch.cuda.is_available() else \"cpu\")"
   ]
  },
  {
   "cell_type": "code",
   "execution_count": 4,
   "metadata": {},
   "outputs": [],
   "source": [
    "model, opt, seen_epochs, train_ds, test_ds, writer, checkpoint_path, ignore_index, cross_entropy_weights = load_checkpoint(\n",
    "    checkpoint_path,\n",
    "    TransformerModel,\n",
    "    Adam,\n",
    "    device=device\n",
    ")"
   ]
  },
  {
   "cell_type": "code",
   "execution_count": 5,
   "metadata": {},
   "outputs": [],
   "source": [
    "dl_test = DataLoader(test_ds, batch_size=32, shuffle=False, collate_fn=mat_collate_fn)"
   ]
  },
  {
   "cell_type": "code",
   "execution_count": 6,
   "metadata": {},
   "outputs": [
    {
     "name": "stderr",
     "output_type": "stream",
     "text": [
      "/run/media/john/Secondary/Documents/Cornell/Spring 2024/ORIE 4741 Learning From Data/Project/proj/lib64/python3.11/site-packages/torch/nested/__init__.py:166: UserWarning: The PyTorch API of nested tensors is in prototype stage and will change in the near future. (Triggered internally at ../aten/src/ATen/NestedTensorImpl.cpp:177.)\n",
      "  return _nested.nested_tensor(\n"
     ]
    }
   ],
   "source": [
    "outputs = []\n",
    "targets = []\n",
    "dl_iter = iter(dl_test)\n",
    "for i in range(10):\n",
    "    try:\n",
    "        sample = next(dl_iter)\n",
    "    except StopIteration:\n",
    "        dl_iter = iter(dl_test)\n",
    "        sample = next(dl_iter)\n",
    "    emb, pos, targ, mask = sample\n",
    "    emb = emb.to(device)\n",
    "    pos = pos.to(device)\n",
    "    mask = mask.to(device)\n",
    "    targ = targ.to(device)\n",
    "    output = model(emb, pos, mask)\n",
    "    outputs.append(output.to(\"cpu\"))\n",
    "    targets.append(targ.to(\"cpu\"))"
   ]
  },
  {
   "cell_type": "code",
   "execution_count": 7,
   "metadata": {},
   "outputs": [],
   "source": [
    "torch.save(outputs, \"outputs.pt\")\n",
    "torch.save(targets, \"targets.pt\")"
   ]
  },
  {
   "cell_type": "code",
   "execution_count": null,
   "metadata": {},
   "outputs": [],
   "source": []
  }
 ],
 "metadata": {
  "kernelspec": {
   "display_name": ".venv",
   "language": "python",
   "name": "python3"
  },
  "language_info": {
   "codemirror_mode": {
    "name": "ipython",
    "version": 3
   },
   "file_extension": ".py",
   "mimetype": "text/x-python",
   "name": "python",
   "nbconvert_exporter": "python",
   "pygments_lexer": "ipython3",
   "version": "3.11.7"
  }
 },
 "nbformat": 4,
 "nbformat_minor": 2
}
