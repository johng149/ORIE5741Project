{
 "cells": [
  {
   "cell_type": "code",
   "execution_count": 1,
   "metadata": {},
   "outputs": [],
   "source": [
    "import torch\n",
    "from torch.nn.functional import pad"
   ]
  },
  {
   "cell_type": "code",
   "execution_count": 2,
   "metadata": {},
   "outputs": [],
   "source": [
    "dim = 2\n",
    "# mock embedding matrix 1\n",
    "seq_len1 = 5\n",
    "matrix1 = torch.randn(seq_len1, dim)\n",
    "# mock embedding matrix 2\n",
    "seq_len2 = 3\n",
    "matrix2 = torch.randn(seq_len2, dim)\n",
    "# ensure matrices only contain non-negative values\n",
    "matrix1 = torch.abs(matrix1)\n",
    "matrix2 = torch.abs(matrix2)"
   ]
  },
  {
   "cell_type": "code",
   "execution_count": 3,
   "metadata": {},
   "outputs": [],
   "source": [
    "matrices = [matrix1, matrix2]"
   ]
  },
  {
   "cell_type": "code",
   "execution_count": 4,
   "metadata": {},
   "outputs": [],
   "source": [
    "longest_seq_len = max([matrix.size(0) for matrix in matrices])"
   ]
  },
  {
   "cell_type": "code",
   "execution_count": 5,
   "metadata": {},
   "outputs": [],
   "source": [
    "seq_lens = [matrix.size(0) for matrix in matrices]"
   ]
  },
  {
   "cell_type": "code",
   "execution_count": 6,
   "metadata": {},
   "outputs": [],
   "source": [
    "for i in range(len(matrices)):\n",
    "    m = matrices[i]\n",
    "    matrices[i] = pad(m, (0, 0, 0, longest_seq_len - m.size(0)), value=-100000)"
   ]
  },
  {
   "cell_type": "code",
   "execution_count": 7,
   "metadata": {},
   "outputs": [],
   "source": [
    "matrices[-1][-1] = 1"
   ]
  },
  {
   "cell_type": "code",
   "execution_count": 8,
   "metadata": {},
   "outputs": [],
   "source": [
    "from torch.nn.functional import scaled_dot_product_attention as sdpa"
   ]
  },
  {
   "cell_type": "code",
   "execution_count": 9,
   "metadata": {},
   "outputs": [],
   "source": [
    "attn_matrices = []"
   ]
  },
  {
   "cell_type": "code",
   "execution_count": 10,
   "metadata": {},
   "outputs": [],
   "source": [
    "naive_attn = []"
   ]
  },
  {
   "cell_type": "code",
   "execution_count": 11,
   "metadata": {},
   "outputs": [],
   "source": [
    "for i in range(len(seq_lens)):\n",
    "    causal_mask = torch.tril(torch.ones(longest_seq_len, longest_seq_len), diagonal=0)\n",
    "    causal_mask[:, seq_lens[i]: ] = 0\n",
    "    attn_matrices.append(causal_mask.bool())"
   ]
  },
  {
   "cell_type": "code",
   "execution_count": 12,
   "metadata": {},
   "outputs": [],
   "source": [
    "for i in range(len(seq_lens)):\n",
    "    causal_mask = torch.tril(torch.ones(longest_seq_len, longest_seq_len), diagonal=0)\n",
    "    naive_attn.append(causal_mask.bool())"
   ]
  },
  {
   "cell_type": "code",
   "execution_count": 13,
   "metadata": {},
   "outputs": [],
   "source": [
    "attn_matrices = torch.stack(attn_matrices)\n",
    "naive_attn = torch.stack(naive_attn)"
   ]
  },
  {
   "cell_type": "code",
   "execution_count": 14,
   "metadata": {},
   "outputs": [],
   "source": [
    "matrices = torch.stack(matrices)"
   ]
  },
  {
   "cell_type": "code",
   "execution_count": 15,
   "metadata": {},
   "outputs": [],
   "source": [
    "q = torch.rand_like(matrices)\n",
    "k = torch.rand_like(matrices)"
   ]
  },
  {
   "cell_type": "code",
   "execution_count": 16,
   "metadata": {},
   "outputs": [],
   "source": [
    "result = sdpa(q, k, matrices, naive_attn)"
   ]
  },
  {
   "cell_type": "code",
   "execution_count": 17,
   "metadata": {},
   "outputs": [
    {
     "data": {
      "text/plain": [
       "tensor([[[ 7.3774e-01,  7.5188e-01],\n",
       "         [ 1.4557e-01,  1.7227e-01],\n",
       "         [ 2.2988e-01,  4.0861e-01],\n",
       "         [ 6.7407e-01,  1.0262e+00],\n",
       "         [ 8.1342e-01,  1.5773e+00]],\n",
       "\n",
       "        [[ 1.3564e+00,  1.6196e+00],\n",
       "         [ 1.8877e-01,  3.0078e-01],\n",
       "         [ 5.4786e-01,  3.8402e-01],\n",
       "         [-1.0000e+05, -1.0000e+05],\n",
       "         [ 1.0000e+00,  1.0000e+00]]])"
      ]
     },
     "execution_count": 17,
     "metadata": {},
     "output_type": "execute_result"
    }
   ],
   "source": [
    "matrices"
   ]
  },
  {
   "cell_type": "code",
   "execution_count": 18,
   "metadata": {},
   "outputs": [
    {
     "data": {
      "text/plain": [
       "tensor([[[ 7.3774e-01,  7.5188e-01],\n",
       "         [ 4.7628e-01,  4.9596e-01],\n",
       "         [ 4.1083e-01,  4.7393e-01],\n",
       "         [ 4.7637e-01,  6.3472e-01],\n",
       "         [ 5.3254e-01,  7.9940e-01]],\n",
       "\n",
       "        [[ 1.3564e+00,  1.6196e+00],\n",
       "         [ 7.2223e-01,  9.0334e-01],\n",
       "         [ 6.5259e-01,  7.0348e-01],\n",
       "         [-2.8265e+04, -2.8265e+04],\n",
       "         [-2.2341e+04, -2.2341e+04]]])"
      ]
     },
     "execution_count": 18,
     "metadata": {},
     "output_type": "execute_result"
    }
   ],
   "source": [
    "result"
   ]
  },
  {
   "cell_type": "code",
   "execution_count": 19,
   "metadata": {},
   "outputs": [
    {
     "data": {
      "text/plain": [
       "tensor([[[0.7377, 0.7519],\n",
       "         [0.4763, 0.4960],\n",
       "         [0.4108, 0.4739],\n",
       "         [0.4764, 0.6347],\n",
       "         [0.5325, 0.7994]],\n",
       "\n",
       "        [[1.3564, 1.6196],\n",
       "         [0.7222, 0.9033],\n",
       "         [0.6526, 0.7035],\n",
       "         [0.6009, 0.6265],\n",
       "         [0.6329, 0.6768]]])"
      ]
     },
     "execution_count": 19,
     "metadata": {},
     "output_type": "execute_result"
    }
   ],
   "source": [
    "sdpa(q, k, matrices, attn_matrices)"
   ]
  },
  {
   "cell_type": "code",
   "execution_count": null,
   "metadata": {},
   "outputs": [],
   "source": []
  }
 ],
 "metadata": {
  "kernelspec": {
   "display_name": "proj",
   "language": "python",
   "name": "python3"
  },
  "language_info": {
   "codemirror_mode": {
    "name": "ipython",
    "version": 3
   },
   "file_extension": ".py",
   "mimetype": "text/x-python",
   "name": "python",
   "nbconvert_exporter": "python",
   "pygments_lexer": "ipython3",
   "version": "3.11.7"
  }
 },
 "nbformat": 4,
 "nbformat_minor": 2
}
