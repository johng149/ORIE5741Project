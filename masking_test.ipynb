{
 "cells": [
  {
   "cell_type": "code",
   "execution_count": 1,
   "metadata": {},
   "outputs": [],
   "source": [
    "import torch\n",
    "from torch.nn.functional import pad"
   ]
  },
  {
   "cell_type": "code",
   "execution_count": 2,
   "metadata": {},
   "outputs": [],
   "source": [
    "dim = 2\n",
    "# mock embedding matrix 1\n",
    "seq_len1 = 6\n",
    "matrix1 = torch.randn(seq_len1, dim)\n",
    "# mock embedding matrix 2\n",
    "seq_len2 = 4\n",
    "matrix2 = torch.randn(seq_len2, dim)\n",
    "# ensure matrices only contain non-negative values\n",
    "matrix1 = torch.abs(matrix1)\n",
    "matrix2 = torch.abs(matrix2)"
   ]
  },
  {
   "cell_type": "code",
   "execution_count": 3,
   "metadata": {},
   "outputs": [],
   "source": [
    "targets1 = torch.tensor([-1,-1,4,-1,-1,2])\n",
    "targets2 = torch.tensor([-1,1,-1,8])"
   ]
  },
  {
   "cell_type": "code",
   "execution_count": 4,
   "metadata": {},
   "outputs": [],
   "source": [
    "targets = [targets1, targets2]"
   ]
  },
  {
   "cell_type": "code",
   "execution_count": 5,
   "metadata": {},
   "outputs": [],
   "source": [
    "for i, target in enumerate(targets):\n",
    "    targets[i] = torch.roll(target,-1)\n",
    "    targets[i][-1] = -1"
   ]
  },
  {
   "cell_type": "code",
   "execution_count": 6,
   "metadata": {},
   "outputs": [
    {
     "name": "stderr",
     "output_type": "stream",
     "text": [
      "/run/media/john/Secondary/Documents/Cornell/Spring 2024/ORIE 4741 Learning From Data/Project/proj/lib64/python3.11/site-packages/torch/nested/__init__.py:166: UserWarning: The PyTorch API of nested tensors is in prototype stage and will change in the near future. (Triggered internally at ../aten/src/ATen/NestedTensorImpl.cpp:177.)\n",
      "  return _nested.nested_tensor(\n"
     ]
    }
   ],
   "source": [
    "targets = torch.nested.nested_tensor(targets)"
   ]
  },
  {
   "cell_type": "code",
   "execution_count": 7,
   "metadata": {},
   "outputs": [],
   "source": [
    "targets = torch.nested.to_padded_tensor(targets, -1)"
   ]
  },
  {
   "cell_type": "code",
   "execution_count": 30,
   "metadata": {},
   "outputs": [
    {
     "data": {
      "text/plain": [
       "tensor([[-1,  4, -1, -1,  2, -1],\n",
       "        [ 1, -1,  8, -1, -1, -1]])"
      ]
     },
     "execution_count": 30,
     "metadata": {},
     "output_type": "execute_result"
    }
   ],
   "source": [
    "targets"
   ]
  },
  {
   "cell_type": "code",
   "execution_count": 8,
   "metadata": {},
   "outputs": [],
   "source": [
    "matrices = [matrix1, matrix2]"
   ]
  },
  {
   "cell_type": "code",
   "execution_count": 9,
   "metadata": {},
   "outputs": [],
   "source": [
    "longest_seq_len = max([matrix.size(0) for matrix in matrices])"
   ]
  },
  {
   "cell_type": "code",
   "execution_count": 10,
   "metadata": {},
   "outputs": [],
   "source": [
    "seq_lens = [matrix.size(0) for matrix in matrices]"
   ]
  },
  {
   "cell_type": "code",
   "execution_count": 11,
   "metadata": {},
   "outputs": [],
   "source": [
    "for i in range(len(matrices)):\n",
    "    m = matrices[i]\n",
    "    matrices[i] = pad(m, (0, 0, 0, longest_seq_len - m.size(0)), value=-100000)"
   ]
  },
  {
   "cell_type": "code",
   "execution_count": 12,
   "metadata": {},
   "outputs": [],
   "source": [
    "matrices[-1][-1] = 1"
   ]
  },
  {
   "cell_type": "code",
   "execution_count": 13,
   "metadata": {},
   "outputs": [],
   "source": [
    "from torch.nn.functional import scaled_dot_product_attention as sdpa"
   ]
  },
  {
   "cell_type": "code",
   "execution_count": 14,
   "metadata": {},
   "outputs": [],
   "source": [
    "attn_matrices = []"
   ]
  },
  {
   "cell_type": "code",
   "execution_count": 15,
   "metadata": {},
   "outputs": [],
   "source": [
    "naive_attn = []"
   ]
  },
  {
   "cell_type": "code",
   "execution_count": 16,
   "metadata": {},
   "outputs": [],
   "source": [
    "for i in range(len(seq_lens)):\n",
    "    causal_mask = torch.tril(torch.ones(longest_seq_len, longest_seq_len), diagonal=0)\n",
    "    causal_mask[:, seq_lens[i]: ] = 0\n",
    "    attn_matrices.append(causal_mask.bool())"
   ]
  },
  {
   "cell_type": "code",
   "execution_count": 17,
   "metadata": {},
   "outputs": [],
   "source": [
    "for i in range(len(seq_lens)):\n",
    "    causal_mask = torch.tril(torch.ones(longest_seq_len, longest_seq_len), diagonal=0)\n",
    "    naive_attn.append(causal_mask.bool())"
   ]
  },
  {
   "cell_type": "code",
   "execution_count": 18,
   "metadata": {},
   "outputs": [],
   "source": [
    "attn_matrices = torch.stack(attn_matrices)\n",
    "naive_attn = torch.stack(naive_attn)"
   ]
  },
  {
   "cell_type": "code",
   "execution_count": 19,
   "metadata": {},
   "outputs": [],
   "source": [
    "matrices = torch.stack(matrices)"
   ]
  },
  {
   "cell_type": "code",
   "execution_count": 20,
   "metadata": {},
   "outputs": [],
   "source": [
    "q = torch.rand_like(matrices)\n",
    "k = torch.rand_like(matrices)"
   ]
  },
  {
   "cell_type": "code",
   "execution_count": 21,
   "metadata": {},
   "outputs": [],
   "source": [
    "result = sdpa(q, k, matrices, naive_attn)"
   ]
  },
  {
   "cell_type": "code",
   "execution_count": 22,
   "metadata": {},
   "outputs": [
    {
     "data": {
      "text/plain": [
       "tensor([[[ 1.6257e+00,  6.9774e-01],\n",
       "         [ 1.2349e+00,  2.2260e-01],\n",
       "         [ 2.0616e-01,  4.4840e-01],\n",
       "         [ 4.5609e-01,  4.9041e-01],\n",
       "         [ 1.8428e+00,  4.6549e-01],\n",
       "         [ 1.4216e+00,  9.1426e-01]],\n",
       "\n",
       "        [[ 4.8778e-01,  6.6217e-01],\n",
       "         [ 1.1724e+00,  1.5859e+00],\n",
       "         [ 7.9270e-02,  6.4565e-01],\n",
       "         [ 3.5792e-01,  1.0977e+00],\n",
       "         [-1.0000e+05, -1.0000e+05],\n",
       "         [ 1.0000e+00,  1.0000e+00]]])"
      ]
     },
     "execution_count": 22,
     "metadata": {},
     "output_type": "execute_result"
    }
   ],
   "source": [
    "matrices"
   ]
  },
  {
   "cell_type": "code",
   "execution_count": 23,
   "metadata": {},
   "outputs": [
    {
     "data": {
      "text/plain": [
       "tensor([[[ 1.6257e+00,  6.9774e-01],\n",
       "         [ 1.4354e+00,  4.6639e-01],\n",
       "         [ 9.7711e-01,  4.4738e-01],\n",
       "         [ 7.9450e-01,  4.6234e-01],\n",
       "         [ 1.0369e+00,  4.6194e-01],\n",
       "         [ 1.1020e+00,  5.3125e-01]],\n",
       "\n",
       "        [[ 4.8778e-01,  6.6217e-01],\n",
       "         [ 8.3678e-01,  1.1331e+00],\n",
       "         [ 5.8335e-01,  9.6802e-01],\n",
       "         [ 5.0429e-01,  9.8661e-01],\n",
       "         [-2.2155e+04, -2.2154e+04],\n",
       "         [-1.8697e+04, -1.8697e+04]]])"
      ]
     },
     "execution_count": 23,
     "metadata": {},
     "output_type": "execute_result"
    }
   ],
   "source": [
    "result"
   ]
  },
  {
   "cell_type": "code",
   "execution_count": 24,
   "metadata": {},
   "outputs": [
    {
     "data": {
      "text/plain": [
       "tensor([[[1.6257, 0.6977],\n",
       "         [1.4354, 0.4664],\n",
       "         [0.9771, 0.4474],\n",
       "         [0.7945, 0.4623],\n",
       "         [1.0369, 0.4619],\n",
       "         [1.1020, 0.5312]],\n",
       "\n",
       "        [[0.4878, 0.6622],\n",
       "         [0.8368, 1.1331],\n",
       "         [0.5833, 0.9680],\n",
       "         [0.5043, 0.9866],\n",
       "         [0.5342, 1.0096],\n",
       "         [0.5392, 1.0137]]])"
      ]
     },
     "execution_count": 24,
     "metadata": {},
     "output_type": "execute_result"
    }
   ],
   "source": [
    "sdpa(q, k, matrices, attn_matrices)"
   ]
  },
  {
   "cell_type": "code",
   "execution_count": 25,
   "metadata": {},
   "outputs": [],
   "source": [
    "before_roll = torch.tensor([0,-1,-1,3,-1,-1,-1,1])"
   ]
  },
  {
   "cell_type": "code",
   "execution_count": 26,
   "metadata": {},
   "outputs": [],
   "source": [
    "rolled = torch.roll(before_roll,-1)"
   ]
  },
  {
   "cell_type": "code",
   "execution_count": 27,
   "metadata": {},
   "outputs": [
    {
     "data": {
      "text/plain": [
       "tensor([-1, -1,  3, -1, -1, -1,  1,  0])"
      ]
     },
     "execution_count": 27,
     "metadata": {},
     "output_type": "execute_result"
    }
   ],
   "source": [
    "rolled"
   ]
  },
  {
   "cell_type": "code",
   "execution_count": 28,
   "metadata": {},
   "outputs": [],
   "source": [
    "rolled[-1] = -1"
   ]
  },
  {
   "cell_type": "code",
   "execution_count": 29,
   "metadata": {},
   "outputs": [
    {
     "data": {
      "text/plain": [
       "tensor([-1, -1,  3, -1, -1, -1,  1, -1])"
      ]
     },
     "execution_count": 29,
     "metadata": {},
     "output_type": "execute_result"
    }
   ],
   "source": [
    "rolled"
   ]
  },
  {
   "cell_type": "code",
   "execution_count": null,
   "metadata": {},
   "outputs": [],
   "source": []
  }
 ],
 "metadata": {
  "kernelspec": {
   "display_name": "proj",
   "language": "python",
   "name": "python3"
  },
  "language_info": {
   "codemirror_mode": {
    "name": "ipython",
    "version": 3
   },
   "file_extension": ".py",
   "mimetype": "text/x-python",
   "name": "python",
   "nbconvert_exporter": "python",
   "pygments_lexer": "ipython3",
   "version": "3.11.7"
  }
 },
 "nbformat": 4,
 "nbformat_minor": 2
}
